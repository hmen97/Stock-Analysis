{
 "cells": [
  {
   "cell_type": "code",
   "execution_count": 1,
   "metadata": {},
   "outputs": [],
   "source": [
    "import pandas as pd\n",
    "import numpy as np\n",
    "import matplotlib.pyplot as plt\n",
    "import lightgbm as lgbm #package needed to implement the xgboost\n",
    "\n",
    "from sklearn.model_selection import train_test_split #to split the data into training and testing parts\n",
    "from sklearn.metrics import mean_squared_error #to check the mean squared error of the predictions made\n",
    "from sklearn.preprocessing import MinMaxScaler #used to normalize the output to (-1, 1) "
   ]
  },
  {
   "cell_type": "code",
   "execution_count": 2,
   "metadata": {},
   "outputs": [],
   "source": [
    "stock = pd.read_csv(\"./data/data_stocks.csv\", header = 0)"
   ]
  },
  {
   "cell_type": "code",
   "execution_count": 3,
   "metadata": {},
   "outputs": [
    {
     "data": {
      "text/html": [
       "<div>\n",
       "<style scoped>\n",
       "    .dataframe tbody tr th:only-of-type {\n",
       "        vertical-align: middle;\n",
       "    }\n",
       "\n",
       "    .dataframe tbody tr th {\n",
       "        vertical-align: top;\n",
       "    }\n",
       "\n",
       "    .dataframe thead th {\n",
       "        text-align: right;\n",
       "    }\n",
       "</style>\n",
       "<table border=\"1\" class=\"dataframe\">\n",
       "  <thead>\n",
       "    <tr style=\"text-align: right;\">\n",
       "      <th></th>\n",
       "      <th>DATE</th>\n",
       "      <th>SP500</th>\n",
       "      <th>NASDAQ.AAL</th>\n",
       "      <th>NASDAQ.AAPL</th>\n",
       "      <th>NASDAQ.ADBE</th>\n",
       "      <th>NASDAQ.ADI</th>\n",
       "      <th>NASDAQ.ADP</th>\n",
       "      <th>NASDAQ.ADSK</th>\n",
       "      <th>NASDAQ.AKAM</th>\n",
       "      <th>NASDAQ.ALXN</th>\n",
       "      <th>...</th>\n",
       "      <th>NYSE.WYN</th>\n",
       "      <th>NYSE.XEC</th>\n",
       "      <th>NYSE.XEL</th>\n",
       "      <th>NYSE.XL</th>\n",
       "      <th>NYSE.XOM</th>\n",
       "      <th>NYSE.XRX</th>\n",
       "      <th>NYSE.XYL</th>\n",
       "      <th>NYSE.YUM</th>\n",
       "      <th>NYSE.ZBH</th>\n",
       "      <th>NYSE.ZTS</th>\n",
       "    </tr>\n",
       "  </thead>\n",
       "  <tbody>\n",
       "    <tr>\n",
       "      <th>0</th>\n",
       "      <td>1491226200</td>\n",
       "      <td>2363.6101</td>\n",
       "      <td>42.3300</td>\n",
       "      <td>143.6800</td>\n",
       "      <td>129.6300</td>\n",
       "      <td>82.040</td>\n",
       "      <td>102.2300</td>\n",
       "      <td>85.2200</td>\n",
       "      <td>59.760</td>\n",
       "      <td>121.52</td>\n",
       "      <td>...</td>\n",
       "      <td>84.370</td>\n",
       "      <td>119.035</td>\n",
       "      <td>44.40</td>\n",
       "      <td>39.88</td>\n",
       "      <td>82.03</td>\n",
       "      <td>7.36</td>\n",
       "      <td>50.22</td>\n",
       "      <td>63.86</td>\n",
       "      <td>122.000</td>\n",
       "      <td>53.350</td>\n",
       "    </tr>\n",
       "    <tr>\n",
       "      <th>1</th>\n",
       "      <td>1491226260</td>\n",
       "      <td>2364.1001</td>\n",
       "      <td>42.3600</td>\n",
       "      <td>143.7000</td>\n",
       "      <td>130.3200</td>\n",
       "      <td>82.080</td>\n",
       "      <td>102.1400</td>\n",
       "      <td>85.6500</td>\n",
       "      <td>59.840</td>\n",
       "      <td>121.48</td>\n",
       "      <td>...</td>\n",
       "      <td>84.370</td>\n",
       "      <td>119.035</td>\n",
       "      <td>44.11</td>\n",
       "      <td>39.88</td>\n",
       "      <td>82.03</td>\n",
       "      <td>7.38</td>\n",
       "      <td>50.22</td>\n",
       "      <td>63.74</td>\n",
       "      <td>121.770</td>\n",
       "      <td>53.350</td>\n",
       "    </tr>\n",
       "    <tr>\n",
       "      <th>2</th>\n",
       "      <td>1491226320</td>\n",
       "      <td>2362.6799</td>\n",
       "      <td>42.3100</td>\n",
       "      <td>143.6901</td>\n",
       "      <td>130.2250</td>\n",
       "      <td>82.030</td>\n",
       "      <td>102.2125</td>\n",
       "      <td>85.5100</td>\n",
       "      <td>59.795</td>\n",
       "      <td>121.93</td>\n",
       "      <td>...</td>\n",
       "      <td>84.585</td>\n",
       "      <td>119.260</td>\n",
       "      <td>44.09</td>\n",
       "      <td>39.98</td>\n",
       "      <td>82.02</td>\n",
       "      <td>7.36</td>\n",
       "      <td>50.12</td>\n",
       "      <td>63.75</td>\n",
       "      <td>121.700</td>\n",
       "      <td>53.365</td>\n",
       "    </tr>\n",
       "    <tr>\n",
       "      <th>3</th>\n",
       "      <td>1491226380</td>\n",
       "      <td>2364.3101</td>\n",
       "      <td>42.3700</td>\n",
       "      <td>143.6400</td>\n",
       "      <td>130.0729</td>\n",
       "      <td>82.000</td>\n",
       "      <td>102.1400</td>\n",
       "      <td>85.4872</td>\n",
       "      <td>59.620</td>\n",
       "      <td>121.44</td>\n",
       "      <td>...</td>\n",
       "      <td>84.460</td>\n",
       "      <td>119.260</td>\n",
       "      <td>44.25</td>\n",
       "      <td>39.99</td>\n",
       "      <td>82.02</td>\n",
       "      <td>7.35</td>\n",
       "      <td>50.16</td>\n",
       "      <td>63.88</td>\n",
       "      <td>121.700</td>\n",
       "      <td>53.380</td>\n",
       "    </tr>\n",
       "    <tr>\n",
       "      <th>4</th>\n",
       "      <td>1491226440</td>\n",
       "      <td>2364.8501</td>\n",
       "      <td>42.5378</td>\n",
       "      <td>143.6600</td>\n",
       "      <td>129.8800</td>\n",
       "      <td>82.035</td>\n",
       "      <td>102.0600</td>\n",
       "      <td>85.7001</td>\n",
       "      <td>59.620</td>\n",
       "      <td>121.60</td>\n",
       "      <td>...</td>\n",
       "      <td>84.470</td>\n",
       "      <td>119.610</td>\n",
       "      <td>44.11</td>\n",
       "      <td>39.96</td>\n",
       "      <td>82.03</td>\n",
       "      <td>7.36</td>\n",
       "      <td>50.20</td>\n",
       "      <td>63.91</td>\n",
       "      <td>121.695</td>\n",
       "      <td>53.240</td>\n",
       "    </tr>\n",
       "  </tbody>\n",
       "</table>\n",
       "<p>5 rows × 502 columns</p>\n",
       "</div>"
      ],
      "text/plain": [
       "         DATE      SP500  NASDAQ.AAL  NASDAQ.AAPL  NASDAQ.ADBE  NASDAQ.ADI  \\\n",
       "0  1491226200  2363.6101     42.3300     143.6800     129.6300      82.040   \n",
       "1  1491226260  2364.1001     42.3600     143.7000     130.3200      82.080   \n",
       "2  1491226320  2362.6799     42.3100     143.6901     130.2250      82.030   \n",
       "3  1491226380  2364.3101     42.3700     143.6400     130.0729      82.000   \n",
       "4  1491226440  2364.8501     42.5378     143.6600     129.8800      82.035   \n",
       "\n",
       "   NASDAQ.ADP  NASDAQ.ADSK  NASDAQ.AKAM  NASDAQ.ALXN    ...     NYSE.WYN  \\\n",
       "0    102.2300      85.2200       59.760       121.52    ...       84.370   \n",
       "1    102.1400      85.6500       59.840       121.48    ...       84.370   \n",
       "2    102.2125      85.5100       59.795       121.93    ...       84.585   \n",
       "3    102.1400      85.4872       59.620       121.44    ...       84.460   \n",
       "4    102.0600      85.7001       59.620       121.60    ...       84.470   \n",
       "\n",
       "   NYSE.XEC  NYSE.XEL  NYSE.XL  NYSE.XOM  NYSE.XRX  NYSE.XYL  NYSE.YUM  \\\n",
       "0   119.035     44.40    39.88     82.03      7.36     50.22     63.86   \n",
       "1   119.035     44.11    39.88     82.03      7.38     50.22     63.74   \n",
       "2   119.260     44.09    39.98     82.02      7.36     50.12     63.75   \n",
       "3   119.260     44.25    39.99     82.02      7.35     50.16     63.88   \n",
       "4   119.610     44.11    39.96     82.03      7.36     50.20     63.91   \n",
       "\n",
       "   NYSE.ZBH  NYSE.ZTS  \n",
       "0   122.000    53.350  \n",
       "1   121.770    53.350  \n",
       "2   121.700    53.365  \n",
       "3   121.700    53.380  \n",
       "4   121.695    53.240  \n",
       "\n",
       "[5 rows x 502 columns]"
      ]
     },
     "execution_count": 3,
     "metadata": {},
     "output_type": "execute_result"
    }
   ],
   "source": [
    "stock.head()"
   ]
  },
  {
   "cell_type": "code",
   "execution_count": 4,
   "metadata": {},
   "outputs": [],
   "source": [
    "stock = stock.drop(columns = \"DATE\", axis = 1)"
   ]
  },
  {
   "cell_type": "code",
   "execution_count": 5,
   "metadata": {},
   "outputs": [],
   "source": [
    "n = stock.shape[0]\n",
    "p = stock.shape[1]"
   ]
  },
  {
   "cell_type": "code",
   "execution_count": 6,
   "metadata": {},
   "outputs": [],
   "source": [
    "scaler = MinMaxScaler(feature_range=(0,1))\n",
    "scaler.fit(stock)\n",
    "stock = scaler.transform(stock)"
   ]
  },
  {
   "cell_type": "code",
   "execution_count": 7,
   "metadata": {},
   "outputs": [],
   "source": [
    "train_start = 0\n",
    "train_end = int(np.floor(0.8*n))\n",
    "test_start = train_end + 1\n",
    "test_end = n\n",
    "train = stock[np.arange(train_start, train_end), :]\n",
    "test = stock[np.arange(test_start, test_end), :]"
   ]
  },
  {
   "cell_type": "code",
   "execution_count": 8,
   "metadata": {},
   "outputs": [
    {
     "data": {
      "text/plain": [
       "(41266, 501)"
      ]
     },
     "execution_count": 8,
     "metadata": {},
     "output_type": "execute_result"
    }
   ],
   "source": [
    "stock.shape"
   ]
  },
  {
   "cell_type": "code",
   "execution_count": 9,
   "metadata": {},
   "outputs": [],
   "source": [
    "X = train[:, 1:]\n",
    "Y = train[:, 0]\n",
    "X_test = test[:, 1:]\n",
    "y_test = test[:, 0] "
   ]
  },
  {
   "cell_type": "code",
   "execution_count": 10,
   "metadata": {},
   "outputs": [],
   "source": [
    "X_train, X_validate, y_train, y_validate = train_test_split(X, Y, random_state = 123, test_size = 0.2)"
   ]
  },
  {
   "cell_type": "code",
   "execution_count": 11,
   "metadata": {},
   "outputs": [],
   "source": [
    "model = lgbm.LGBMRegressor(boosting_type = 'gbdt', objective = 'regression')"
   ]
  },
  {
   "cell_type": "code",
   "execution_count": 12,
   "metadata": {},
   "outputs": [
    {
     "name": "stdout",
     "output_type": "stream",
     "text": [
      "[1]\tvalid_0's l2: 0.0475417\tvalid_0's l2: 0.0475417\tvalid_1's l2: 0.0468582\tvalid_1's l2: 0.0468582\n",
      "[2]\tvalid_0's l2: 0.0385574\tvalid_0's l2: 0.0385574\tvalid_1's l2: 0.0380167\tvalid_1's l2: 0.0380167\n",
      "[3]\tvalid_0's l2: 0.0312768\tvalid_0's l2: 0.0312768\tvalid_1's l2: 0.0308427\tvalid_1's l2: 0.0308427\n",
      "[4]\tvalid_0's l2: 0.025373\tvalid_0's l2: 0.025373\tvalid_1's l2: 0.0250182\tvalid_1's l2: 0.0250182\n",
      "[5]\tvalid_0's l2: 0.0205887\tvalid_0's l2: 0.0205887\tvalid_1's l2: 0.0203007\tvalid_1's l2: 0.0203007\n",
      "[6]\tvalid_0's l2: 0.0167093\tvalid_0's l2: 0.0167093\tvalid_1's l2: 0.0164744\tvalid_1's l2: 0.0164744\n",
      "[7]\tvalid_0's l2: 0.013564\tvalid_0's l2: 0.013564\tvalid_1's l2: 0.0133781\tvalid_1's l2: 0.0133781\n",
      "[8]\tvalid_0's l2: 0.0110128\tvalid_0's l2: 0.0110128\tvalid_1's l2: 0.0108598\tvalid_1's l2: 0.0108598\n",
      "[9]\tvalid_0's l2: 0.00894689\tvalid_0's l2: 0.00894689\tvalid_1's l2: 0.0088215\tvalid_1's l2: 0.0088215\n",
      "[10]\tvalid_0's l2: 0.0072697\tvalid_0's l2: 0.0072697\tvalid_1's l2: 0.00716707\tvalid_1's l2: 0.00716707\n",
      "[11]\tvalid_0's l2: 0.00590958\tvalid_0's l2: 0.00590958\tvalid_1's l2: 0.00582702\tvalid_1's l2: 0.00582702\n",
      "[12]\tvalid_0's l2: 0.00480587\tvalid_0's l2: 0.00480587\tvalid_1's l2: 0.0047379\tvalid_1's l2: 0.0047379\n",
      "[13]\tvalid_0's l2: 0.00391037\tvalid_0's l2: 0.00391037\tvalid_1's l2: 0.00385698\tvalid_1's l2: 0.00385698\n",
      "[14]\tvalid_0's l2: 0.0031829\tvalid_0's l2: 0.0031829\tvalid_1's l2: 0.00314037\tvalid_1's l2: 0.00314037\n",
      "[15]\tvalid_0's l2: 0.00259338\tvalid_0's l2: 0.00259338\tvalid_1's l2: 0.00255861\tvalid_1's l2: 0.00255861\n",
      "[16]\tvalid_0's l2: 0.00211488\tvalid_0's l2: 0.00211488\tvalid_1's l2: 0.00208726\tvalid_1's l2: 0.00208726\n",
      "[17]\tvalid_0's l2: 0.00172629\tvalid_0's l2: 0.00172629\tvalid_1's l2: 0.00170486\tvalid_1's l2: 0.00170486\n",
      "[18]\tvalid_0's l2: 0.00141069\tvalid_0's l2: 0.00141069\tvalid_1's l2: 0.00139355\tvalid_1's l2: 0.00139355\n",
      "[19]\tvalid_0's l2: 0.0011539\tvalid_0's l2: 0.0011539\tvalid_1's l2: 0.00114041\tvalid_1's l2: 0.00114041\n",
      "[20]\tvalid_0's l2: 0.000945824\tvalid_0's l2: 0.000945824\tvalid_1's l2: 0.00093558\tvalid_1's l2: 0.00093558\n",
      "[21]\tvalid_0's l2: 0.000776067\tvalid_0's l2: 0.000776067\tvalid_1's l2: 0.000768113\tvalid_1's l2: 0.000768113\n",
      "[22]\tvalid_0's l2: 0.000638227\tvalid_0's l2: 0.000638227\tvalid_1's l2: 0.000632751\tvalid_1's l2: 0.000632751\n",
      "[23]\tvalid_0's l2: 0.000526168\tvalid_0's l2: 0.000526168\tvalid_1's l2: 0.000522413\tvalid_1's l2: 0.000522413\n",
      "[24]\tvalid_0's l2: 0.00043493\tvalid_0's l2: 0.00043493\tvalid_1's l2: 0.000432297\tvalid_1's l2: 0.000432297\n",
      "[25]\tvalid_0's l2: 0.000360652\tvalid_0's l2: 0.000360652\tvalid_1's l2: 0.000359359\tvalid_1's l2: 0.000359359\n",
      "[26]\tvalid_0's l2: 0.000300195\tvalid_0's l2: 0.000300195\tvalid_1's l2: 0.000299871\tvalid_1's l2: 0.000299871\n",
      "[27]\tvalid_0's l2: 0.000250904\tvalid_0's l2: 0.000250904\tvalid_1's l2: 0.000251476\tvalid_1's l2: 0.000251476\n",
      "[28]\tvalid_0's l2: 0.000210724\tvalid_0's l2: 0.000210724\tvalid_1's l2: 0.000211972\tvalid_1's l2: 0.000211972\n",
      "[29]\tvalid_0's l2: 0.000177935\tvalid_0's l2: 0.000177935\tvalid_1's l2: 0.000179605\tvalid_1's l2: 0.000179605\n",
      "[30]\tvalid_0's l2: 0.000150978\tvalid_0's l2: 0.000150978\tvalid_1's l2: 0.000153175\tvalid_1's l2: 0.000153175\n",
      "[31]\tvalid_0's l2: 0.000129086\tvalid_0's l2: 0.000129086\tvalid_1's l2: 0.000131574\tvalid_1's l2: 0.000131574\n",
      "[32]\tvalid_0's l2: 0.000111115\tvalid_0's l2: 0.000111115\tvalid_1's l2: 0.000113924\tvalid_1's l2: 0.000113924\n",
      "[33]\tvalid_0's l2: 9.62998e-05\tvalid_0's l2: 9.62998e-05\tvalid_1's l2: 9.93679e-05\tvalid_1's l2: 9.93679e-05\n",
      "[34]\tvalid_0's l2: 8.40263e-05\tvalid_0's l2: 8.40263e-05\tvalid_1's l2: 8.73861e-05\tvalid_1's l2: 8.73861e-05\n",
      "[35]\tvalid_0's l2: 7.40128e-05\tvalid_0's l2: 7.40128e-05\tvalid_1's l2: 7.76292e-05\tvalid_1's l2: 7.76292e-05\n",
      "[36]\tvalid_0's l2: 6.56924e-05\tvalid_0's l2: 6.56924e-05\tvalid_1's l2: 6.94879e-05\tvalid_1's l2: 6.94879e-05\n",
      "[37]\tvalid_0's l2: 5.87772e-05\tvalid_0's l2: 5.87772e-05\tvalid_1's l2: 6.27191e-05\tvalid_1's l2: 6.27191e-05\n",
      "[38]\tvalid_0's l2: 5.30547e-05\tvalid_0's l2: 5.30547e-05\tvalid_1's l2: 5.70656e-05\tvalid_1's l2: 5.70656e-05\n",
      "[39]\tvalid_0's l2: 4.83218e-05\tvalid_0's l2: 4.83218e-05\tvalid_1's l2: 5.24884e-05\tvalid_1's l2: 5.24884e-05\n",
      "[40]\tvalid_0's l2: 4.42953e-05\tvalid_0's l2: 4.42953e-05\tvalid_1's l2: 4.85388e-05\tvalid_1's l2: 4.85388e-05\n",
      "[41]\tvalid_0's l2: 4.09812e-05\tvalid_0's l2: 4.09812e-05\tvalid_1's l2: 4.52781e-05\tvalid_1's l2: 4.52781e-05\n",
      "[42]\tvalid_0's l2: 3.82048e-05\tvalid_0's l2: 3.82048e-05\tvalid_1's l2: 4.25508e-05\tvalid_1's l2: 4.25508e-05\n",
      "[43]\tvalid_0's l2: 3.58411e-05\tvalid_0's l2: 3.58411e-05\tvalid_1's l2: 4.02568e-05\tvalid_1's l2: 4.02568e-05\n",
      "[44]\tvalid_0's l2: 3.3824e-05\tvalid_0's l2: 3.3824e-05\tvalid_1's l2: 3.82425e-05\tvalid_1's l2: 3.82425e-05\n",
      "[45]\tvalid_0's l2: 3.21011e-05\tvalid_0's l2: 3.21011e-05\tvalid_1's l2: 3.6562e-05\tvalid_1's l2: 3.6562e-05\n",
      "[46]\tvalid_0's l2: 3.06055e-05\tvalid_0's l2: 3.06055e-05\tvalid_1's l2: 3.50822e-05\tvalid_1's l2: 3.50822e-05\n",
      "[47]\tvalid_0's l2: 2.93149e-05\tvalid_0's l2: 2.93149e-05\tvalid_1's l2: 3.37666e-05\tvalid_1's l2: 3.37666e-05\n",
      "[48]\tvalid_0's l2: 2.82099e-05\tvalid_0's l2: 2.82099e-05\tvalid_1's l2: 3.26751e-05\tvalid_1's l2: 3.26751e-05\n",
      "[49]\tvalid_0's l2: 2.72293e-05\tvalid_0's l2: 2.72293e-05\tvalid_1's l2: 3.17127e-05\tvalid_1's l2: 3.17127e-05\n",
      "[50]\tvalid_0's l2: 2.639e-05\tvalid_0's l2: 2.639e-05\tvalid_1's l2: 3.08757e-05\tvalid_1's l2: 3.08757e-05\n",
      "[51]\tvalid_0's l2: 2.56201e-05\tvalid_0's l2: 2.56201e-05\tvalid_1's l2: 3.01377e-05\tvalid_1's l2: 3.01377e-05\n",
      "[52]\tvalid_0's l2: 2.49254e-05\tvalid_0's l2: 2.49254e-05\tvalid_1's l2: 2.9451e-05\tvalid_1's l2: 2.9451e-05\n",
      "[53]\tvalid_0's l2: 2.43298e-05\tvalid_0's l2: 2.43298e-05\tvalid_1's l2: 2.88424e-05\tvalid_1's l2: 2.88424e-05\n",
      "[54]\tvalid_0's l2: 2.37716e-05\tvalid_0's l2: 2.37716e-05\tvalid_1's l2: 2.83424e-05\tvalid_1's l2: 2.83424e-05\n",
      "[55]\tvalid_0's l2: 2.32822e-05\tvalid_0's l2: 2.32822e-05\tvalid_1's l2: 2.78484e-05\tvalid_1's l2: 2.78484e-05\n",
      "[56]\tvalid_0's l2: 2.28471e-05\tvalid_0's l2: 2.28471e-05\tvalid_1's l2: 2.74412e-05\tvalid_1's l2: 2.74412e-05\n",
      "[57]\tvalid_0's l2: 2.23784e-05\tvalid_0's l2: 2.23784e-05\tvalid_1's l2: 2.70086e-05\tvalid_1's l2: 2.70086e-05\n",
      "[58]\tvalid_0's l2: 2.2009e-05\tvalid_0's l2: 2.2009e-05\tvalid_1's l2: 2.66036e-05\tvalid_1's l2: 2.66036e-05\n",
      "[59]\tvalid_0's l2: 2.16155e-05\tvalid_0's l2: 2.16155e-05\tvalid_1's l2: 2.61727e-05\tvalid_1's l2: 2.61727e-05\n",
      "[60]\tvalid_0's l2: 2.12766e-05\tvalid_0's l2: 2.12766e-05\tvalid_1's l2: 2.58757e-05\tvalid_1's l2: 2.58757e-05\n",
      "[61]\tvalid_0's l2: 2.096e-05\tvalid_0's l2: 2.096e-05\tvalid_1's l2: 2.55689e-05\tvalid_1's l2: 2.55689e-05\n",
      "[62]\tvalid_0's l2: 2.06647e-05\tvalid_0's l2: 2.06647e-05\tvalid_1's l2: 2.52598e-05\tvalid_1's l2: 2.52598e-05\n",
      "[63]\tvalid_0's l2: 2.03396e-05\tvalid_0's l2: 2.03396e-05\tvalid_1's l2: 2.4919e-05\tvalid_1's l2: 2.4919e-05\n",
      "[64]\tvalid_0's l2: 2.00575e-05\tvalid_0's l2: 2.00575e-05\tvalid_1's l2: 2.46591e-05\tvalid_1's l2: 2.46591e-05\n",
      "[65]\tvalid_0's l2: 1.97994e-05\tvalid_0's l2: 1.97994e-05\tvalid_1's l2: 2.44217e-05\tvalid_1's l2: 2.44217e-05\n",
      "[66]\tvalid_0's l2: 1.95498e-05\tvalid_0's l2: 1.95498e-05\tvalid_1's l2: 2.41997e-05\tvalid_1's l2: 2.41997e-05\n",
      "[67]\tvalid_0's l2: 1.92809e-05\tvalid_0's l2: 1.92809e-05\tvalid_1's l2: 2.39254e-05\tvalid_1's l2: 2.39254e-05\n",
      "[68]\tvalid_0's l2: 1.90419e-05\tvalid_0's l2: 1.90419e-05\tvalid_1's l2: 2.36674e-05\tvalid_1's l2: 2.36674e-05\n",
      "[69]\tvalid_0's l2: 1.88062e-05\tvalid_0's l2: 1.88062e-05\tvalid_1's l2: 2.34589e-05\tvalid_1's l2: 2.34589e-05\n",
      "[70]\tvalid_0's l2: 1.85973e-05\tvalid_0's l2: 1.85973e-05\tvalid_1's l2: 2.32636e-05\tvalid_1's l2: 2.32636e-05\n",
      "[71]\tvalid_0's l2: 1.83729e-05\tvalid_0's l2: 1.83729e-05\tvalid_1's l2: 2.30371e-05\tvalid_1's l2: 2.30371e-05\n",
      "[72]\tvalid_0's l2: 1.81793e-05\tvalid_0's l2: 1.81793e-05\tvalid_1's l2: 2.28627e-05\tvalid_1's l2: 2.28627e-05\n",
      "[73]\tvalid_0's l2: 1.79977e-05\tvalid_0's l2: 1.79977e-05\tvalid_1's l2: 2.27016e-05\tvalid_1's l2: 2.27016e-05\n",
      "[74]\tvalid_0's l2: 1.78129e-05\tvalid_0's l2: 1.78129e-05\tvalid_1's l2: 2.25177e-05\tvalid_1's l2: 2.25177e-05\n",
      "[75]\tvalid_0's l2: 1.76505e-05\tvalid_0's l2: 1.76505e-05\tvalid_1's l2: 2.2364e-05\tvalid_1's l2: 2.2364e-05\n",
      "[76]\tvalid_0's l2: 1.74946e-05\tvalid_0's l2: 1.74946e-05\tvalid_1's l2: 2.22052e-05\tvalid_1's l2: 2.22052e-05\n",
      "[77]\tvalid_0's l2: 1.73713e-05\tvalid_0's l2: 1.73713e-05\tvalid_1's l2: 2.20895e-05\tvalid_1's l2: 2.20895e-05\n"
     ]
    },
    {
     "name": "stdout",
     "output_type": "stream",
     "text": [
      "[78]\tvalid_0's l2: 1.72419e-05\tvalid_0's l2: 1.72419e-05\tvalid_1's l2: 2.19524e-05\tvalid_1's l2: 2.19524e-05\n",
      "[79]\tvalid_0's l2: 1.7099e-05\tvalid_0's l2: 1.7099e-05\tvalid_1's l2: 2.18155e-05\tvalid_1's l2: 2.18155e-05\n",
      "[80]\tvalid_0's l2: 1.69907e-05\tvalid_0's l2: 1.69907e-05\tvalid_1's l2: 2.17204e-05\tvalid_1's l2: 2.17204e-05\n",
      "[81]\tvalid_0's l2: 1.68541e-05\tvalid_0's l2: 1.68541e-05\tvalid_1's l2: 2.15881e-05\tvalid_1's l2: 2.15881e-05\n",
      "[82]\tvalid_0's l2: 1.67278e-05\tvalid_0's l2: 1.67278e-05\tvalid_1's l2: 2.1492e-05\tvalid_1's l2: 2.1492e-05\n",
      "[83]\tvalid_0's l2: 1.66045e-05\tvalid_0's l2: 1.66045e-05\tvalid_1's l2: 2.13963e-05\tvalid_1's l2: 2.13963e-05\n",
      "[84]\tvalid_0's l2: 1.6477e-05\tvalid_0's l2: 1.6477e-05\tvalid_1's l2: 2.12874e-05\tvalid_1's l2: 2.12874e-05\n",
      "[85]\tvalid_0's l2: 1.63763e-05\tvalid_0's l2: 1.63763e-05\tvalid_1's l2: 2.12128e-05\tvalid_1's l2: 2.12128e-05\n",
      "[86]\tvalid_0's l2: 1.62618e-05\tvalid_0's l2: 1.62618e-05\tvalid_1's l2: 2.11407e-05\tvalid_1's l2: 2.11407e-05\n",
      "[87]\tvalid_0's l2: 1.61398e-05\tvalid_0's l2: 1.61398e-05\tvalid_1's l2: 2.10436e-05\tvalid_1's l2: 2.10436e-05\n",
      "[88]\tvalid_0's l2: 1.60377e-05\tvalid_0's l2: 1.60377e-05\tvalid_1's l2: 2.09626e-05\tvalid_1's l2: 2.09626e-05\n",
      "[89]\tvalid_0's l2: 1.59552e-05\tvalid_0's l2: 1.59552e-05\tvalid_1's l2: 2.0888e-05\tvalid_1's l2: 2.0888e-05\n",
      "[90]\tvalid_0's l2: 1.58428e-05\tvalid_0's l2: 1.58428e-05\tvalid_1's l2: 2.07929e-05\tvalid_1's l2: 2.07929e-05\n",
      "[91]\tvalid_0's l2: 1.57223e-05\tvalid_0's l2: 1.57223e-05\tvalid_1's l2: 2.06713e-05\tvalid_1's l2: 2.06713e-05\n",
      "[92]\tvalid_0's l2: 1.56159e-05\tvalid_0's l2: 1.56159e-05\tvalid_1's l2: 2.0557e-05\tvalid_1's l2: 2.0557e-05\n",
      "[93]\tvalid_0's l2: 1.54912e-05\tvalid_0's l2: 1.54912e-05\tvalid_1's l2: 2.04703e-05\tvalid_1's l2: 2.04703e-05\n",
      "[94]\tvalid_0's l2: 1.53866e-05\tvalid_0's l2: 1.53866e-05\tvalid_1's l2: 2.03848e-05\tvalid_1's l2: 2.03848e-05\n",
      "[95]\tvalid_0's l2: 1.52694e-05\tvalid_0's l2: 1.52694e-05\tvalid_1's l2: 2.02689e-05\tvalid_1's l2: 2.02689e-05\n",
      "[96]\tvalid_0's l2: 1.51576e-05\tvalid_0's l2: 1.51576e-05\tvalid_1's l2: 2.01748e-05\tvalid_1's l2: 2.01748e-05\n",
      "[97]\tvalid_0's l2: 1.50706e-05\tvalid_0's l2: 1.50706e-05\tvalid_1's l2: 2.00865e-05\tvalid_1's l2: 2.00865e-05\n",
      "[98]\tvalid_0's l2: 1.49899e-05\tvalid_0's l2: 1.49899e-05\tvalid_1's l2: 2.00115e-05\tvalid_1's l2: 2.00115e-05\n",
      "[99]\tvalid_0's l2: 1.48954e-05\tvalid_0's l2: 1.48954e-05\tvalid_1's l2: 1.99123e-05\tvalid_1's l2: 1.99123e-05\n",
      "[100]\tvalid_0's l2: 1.48085e-05\tvalid_0's l2: 1.48085e-05\tvalid_1's l2: 1.98201e-05\tvalid_1's l2: 1.98201e-05\n"
     ]
    },
    {
     "data": {
      "text/plain": [
       "LGBMRegressor(boosting_type='gbdt', class_weight=None, colsample_bytree=1.0,\n",
       "       importance_type='split', learning_rate=0.1, max_depth=-1,\n",
       "       min_child_samples=20, min_child_weight=0.001, min_split_gain=0.0,\n",
       "       n_estimators=100, n_jobs=-1, num_leaves=31, objective='regression',\n",
       "       random_state=None, reg_alpha=0.0, reg_lambda=0.0, silent=True,\n",
       "       subsample=1.0, subsample_for_bin=200000, subsample_freq=0)"
      ]
     },
     "execution_count": 12,
     "metadata": {},
     "output_type": "execute_result"
    }
   ],
   "source": [
    "model.fit(X_train, y_train, eval_set = [(X_train, y_train),(X_validate, y_validate)], \n",
    "        eval_metric = 'l2', verbose = True)"
   ]
  },
  {
   "cell_type": "code",
   "execution_count": 13,
   "metadata": {},
   "outputs": [
    {
     "data": {
      "text/plain": [
       "500"
      ]
     },
     "execution_count": 13,
     "metadata": {},
     "output_type": "execute_result"
    }
   ],
   "source": [
    "model.n_features_"
   ]
  },
  {
   "cell_type": "code",
   "execution_count": 14,
   "metadata": {},
   "outputs": [],
   "source": [
    "predictions = model.predict(X_test)"
   ]
  },
  {
   "cell_type": "code",
   "execution_count": 15,
   "metadata": {},
   "outputs": [
    {
     "data": {
      "text/plain": [
       "0.005139620814690275"
      ]
     },
     "execution_count": 15,
     "metadata": {},
     "output_type": "execute_result"
    }
   ],
   "source": [
    "mean_squared_error(predictions, y_test)"
   ]
  }
 ],
 "metadata": {
  "kernelspec": {
   "display_name": "Python 3",
   "language": "python",
   "name": "python3"
  },
  "language_info": {
   "codemirror_mode": {
    "name": "ipython",
    "version": 3
   },
   "file_extension": ".py",
   "mimetype": "text/x-python",
   "name": "python",
   "nbconvert_exporter": "python",
   "pygments_lexer": "ipython3",
   "version": "3.6.3"
  }
 },
 "nbformat": 4,
 "nbformat_minor": 2
}
